{
 "cells": [
  {
   "cell_type": "code",
   "execution_count": 1,
   "metadata": {},
   "outputs": [],
   "source": [
    "import numpy as np\n",
    "import pandas as pd\n",
    "import matplotlib as plt\n"
   ]
  },
  {
   "cell_type": "code",
   "execution_count": 2,
   "metadata": {},
   "outputs": [],
   "source": [
    "path=(\"C:\\\\Users\\\\lenovo\\\\Downloads\\\\User 2.xlsx\")"
   ]
  },
  {
   "cell_type": "code",
   "execution_count": 3,
   "metadata": {},
   "outputs": [],
   "source": [
    "data=pd.read_excel(\"C:\\\\Users\\\\lenovo\\\\Downloads\\\\User 2.xlsx\")\n"
   ]
  },
  {
   "cell_type": "code",
   "execution_count": 4,
   "metadata": {},
   "outputs": [],
   "source": [
    "item_desc=pd.read_excel(path,\"item_desc\")"
   ]
  },
  {
   "cell_type": "code",
   "execution_count": 5,
   "metadata": {},
   "outputs": [
    {
     "data": {
      "text/html": [
       "<div>\n",
       "<style scoped>\n",
       "    .dataframe tbody tr th:only-of-type {\n",
       "        vertical-align: middle;\n",
       "    }\n",
       "\n",
       "    .dataframe tbody tr th {\n",
       "        vertical-align: top;\n",
       "    }\n",
       "\n",
       "    .dataframe thead th {\n",
       "        text-align: right;\n",
       "    }\n",
       "</style>\n",
       "<table border=\"1\" class=\"dataframe\">\n",
       "  <thead>\n",
       "    <tr style=\"text-align: right;\">\n",
       "      <th></th>\n",
       "      <th>Unnamed: 0</th>\n",
       "      <th>USER</th>\n",
       "      <th>ITEM</th>\n",
       "      <th>RATING</th>\n",
       "    </tr>\n",
       "  </thead>\n",
       "  <tbody>\n",
       "    <tr>\n",
       "      <td>0</td>\n",
       "      <td>1</td>\n",
       "      <td>A3ZHSTP095UTZ</td>\n",
       "      <td>B006GWO5WK</td>\n",
       "      <td>4</td>\n",
       "    </tr>\n",
       "    <tr>\n",
       "      <td>1</td>\n",
       "      <td>2</td>\n",
       "      <td>A3FGOOWBV8SUCA</td>\n",
       "      <td>B007ZGO7EM</td>\n",
       "      <td>3</td>\n",
       "    </tr>\n",
       "    <tr>\n",
       "      <td>2</td>\n",
       "      <td>3</td>\n",
       "      <td>A38P3PPW3JXA3E</td>\n",
       "      <td>849922070</td>\n",
       "      <td>3</td>\n",
       "    </tr>\n",
       "    <tr>\n",
       "      <td>3</td>\n",
       "      <td>4</td>\n",
       "      <td>AZM3ZACWGRCC0</td>\n",
       "      <td>B0054JZC6E</td>\n",
       "      <td>1</td>\n",
       "    </tr>\n",
       "    <tr>\n",
       "      <td>4</td>\n",
       "      <td>5</td>\n",
       "      <td>A1H1KUCQY7TX6Y</td>\n",
       "      <td>375831002</td>\n",
       "      <td>5</td>\n",
       "    </tr>\n",
       "    <tr>\n",
       "      <td>5</td>\n",
       "      <td>6</td>\n",
       "      <td>A28J0047O2LM64</td>\n",
       "      <td>345803485</td>\n",
       "      <td>2</td>\n",
       "    </tr>\n",
       "    <tr>\n",
       "      <td>6</td>\n",
       "      <td>7</td>\n",
       "      <td>A3LZA0ZL5IA0MS</td>\n",
       "      <td>B003ELYQGG</td>\n",
       "      <td>4</td>\n",
       "    </tr>\n",
       "    <tr>\n",
       "      <td>7</td>\n",
       "      <td>8</td>\n",
       "      <td>A2U7DXDNYBBLQJ</td>\n",
       "      <td>B001KXZ808</td>\n",
       "      <td>4</td>\n",
       "    </tr>\n",
       "    <tr>\n",
       "      <td>8</td>\n",
       "      <td>9</td>\n",
       "      <td>AYOJ4CX2CZP7Y</td>\n",
       "      <td>439023483</td>\n",
       "      <td>3</td>\n",
       "    </tr>\n",
       "    <tr>\n",
       "      <td>9</td>\n",
       "      <td>10</td>\n",
       "      <td>AO8RJE8TIFJZA</td>\n",
       "      <td>B002Y27P3M</td>\n",
       "      <td>4</td>\n",
       "    </tr>\n",
       "    <tr>\n",
       "      <td>10</td>\n",
       "      <td>11</td>\n",
       "      <td>A20J0NBT6FWXXM</td>\n",
       "      <td>B000GF7ZRA</td>\n",
       "      <td>5</td>\n",
       "    </tr>\n",
       "    <tr>\n",
       "      <td>11</td>\n",
       "      <td>12</td>\n",
       "      <td>A2I6O3SYDQO39E</td>\n",
       "      <td>B00622AG6S</td>\n",
       "      <td>2</td>\n",
       "    </tr>\n",
       "    <tr>\n",
       "      <td>12</td>\n",
       "      <td>13</td>\n",
       "      <td>A2ORZ3QVBGOCON</td>\n",
       "      <td>7386648</td>\n",
       "      <td>5</td>\n",
       "    </tr>\n",
       "    <tr>\n",
       "      <td>13</td>\n",
       "      <td>14</td>\n",
       "      <td>A3A0AY2DJ09Z3U</td>\n",
       "      <td>545265355</td>\n",
       "      <td>3</td>\n",
       "    </tr>\n",
       "    <tr>\n",
       "      <td>14</td>\n",
       "      <td>15</td>\n",
       "      <td>A1FRYNZ1CA6YT9</td>\n",
       "      <td>B000FI73MA</td>\n",
       "      <td>4</td>\n",
       "    </tr>\n",
       "    <tr>\n",
       "      <td>15</td>\n",
       "      <td>16</td>\n",
       "      <td>A2WLBC0XKUOPZQ</td>\n",
       "      <td>B003ELYQGG</td>\n",
       "      <td>5</td>\n",
       "    </tr>\n",
       "    <tr>\n",
       "      <td>16</td>\n",
       "      <td>17</td>\n",
       "      <td>A1W1DJGGN7TA7B</td>\n",
       "      <td>B00AWH595M</td>\n",
       "      <td>5</td>\n",
       "    </tr>\n",
       "    <tr>\n",
       "      <td>17</td>\n",
       "      <td>18</td>\n",
       "      <td>A3188X8EICVD1E</td>\n",
       "      <td>399159347</td>\n",
       "      <td>5</td>\n",
       "    </tr>\n",
       "    <tr>\n",
       "      <td>18</td>\n",
       "      <td>19</td>\n",
       "      <td>A3CTX4B1E3IK6G</td>\n",
       "      <td>B0054JZC6E</td>\n",
       "      <td>3</td>\n",
       "    </tr>\n",
       "    <tr>\n",
       "      <td>19</td>\n",
       "      <td>20</td>\n",
       "      <td>A2ARKTFI3SE722</td>\n",
       "      <td>B0051VVOB2</td>\n",
       "      <td>2</td>\n",
       "    </tr>\n",
       "  </tbody>\n",
       "</table>\n",
       "</div>"
      ],
      "text/plain": [
       "    Unnamed: 0            USER        ITEM  RATING\n",
       "0            1   A3ZHSTP095UTZ  B006GWO5WK       4\n",
       "1            2  A3FGOOWBV8SUCA  B007ZGO7EM       3\n",
       "2            3  A38P3PPW3JXA3E   849922070       3\n",
       "3            4   AZM3ZACWGRCC0  B0054JZC6E       1\n",
       "4            5  A1H1KUCQY7TX6Y   375831002       5\n",
       "5            6  A28J0047O2LM64   345803485       2\n",
       "6            7  A3LZA0ZL5IA0MS  B003ELYQGG       4\n",
       "7            8  A2U7DXDNYBBLQJ  B001KXZ808       4\n",
       "8            9   AYOJ4CX2CZP7Y   439023483       3\n",
       "9           10   AO8RJE8TIFJZA  B002Y27P3M       4\n",
       "10          11  A20J0NBT6FWXXM  B000GF7ZRA       5\n",
       "11          12  A2I6O3SYDQO39E  B00622AG6S       2\n",
       "12          13  A2ORZ3QVBGOCON     7386648       5\n",
       "13          14  A3A0AY2DJ09Z3U   545265355       3\n",
       "14          15  A1FRYNZ1CA6YT9  B000FI73MA       4\n",
       "15          16  A2WLBC0XKUOPZQ  B003ELYQGG       5\n",
       "16          17  A1W1DJGGN7TA7B  B00AWH595M       5\n",
       "17          18  A3188X8EICVD1E   399159347       5\n",
       "18          19  A3CTX4B1E3IK6G  B0054JZC6E       3\n",
       "19          20  A2ARKTFI3SE722  B0051VVOB2       2"
      ]
     },
     "execution_count": 5,
     "metadata": {},
     "output_type": "execute_result"
    }
   ],
   "source": [
    "data.head(20)"
   ]
  },
  {
   "cell_type": "markdown",
   "metadata": {},
   "source": [
    " #removing unrelated column"
   ]
  },
  {
   "cell_type": "code",
   "execution_count": 6,
   "metadata": {},
   "outputs": [],
   "source": [
    "del data[\"Unnamed: 0\"] "
   ]
  },
  {
   "cell_type": "code",
   "execution_count": 7,
   "metadata": {},
   "outputs": [
    {
     "data": {
      "text/html": [
       "<div>\n",
       "<style scoped>\n",
       "    .dataframe tbody tr th:only-of-type {\n",
       "        vertical-align: middle;\n",
       "    }\n",
       "\n",
       "    .dataframe tbody tr th {\n",
       "        vertical-align: top;\n",
       "    }\n",
       "\n",
       "    .dataframe thead th {\n",
       "        text-align: right;\n",
       "    }\n",
       "</style>\n",
       "<table border=\"1\" class=\"dataframe\">\n",
       "  <thead>\n",
       "    <tr style=\"text-align: right;\">\n",
       "      <th></th>\n",
       "      <th>USER</th>\n",
       "      <th>ITEM</th>\n",
       "      <th>RATING</th>\n",
       "    </tr>\n",
       "  </thead>\n",
       "  <tbody>\n",
       "    <tr>\n",
       "      <td>0</td>\n",
       "      <td>A3ZHSTP095UTZ</td>\n",
       "      <td>B006GWO5WK</td>\n",
       "      <td>4</td>\n",
       "    </tr>\n",
       "    <tr>\n",
       "      <td>1</td>\n",
       "      <td>A3FGOOWBV8SUCA</td>\n",
       "      <td>B007ZGO7EM</td>\n",
       "      <td>3</td>\n",
       "    </tr>\n",
       "    <tr>\n",
       "      <td>2</td>\n",
       "      <td>A38P3PPW3JXA3E</td>\n",
       "      <td>849922070</td>\n",
       "      <td>3</td>\n",
       "    </tr>\n",
       "    <tr>\n",
       "      <td>3</td>\n",
       "      <td>AZM3ZACWGRCC0</td>\n",
       "      <td>B0054JZC6E</td>\n",
       "      <td>1</td>\n",
       "    </tr>\n",
       "    <tr>\n",
       "      <td>4</td>\n",
       "      <td>A1H1KUCQY7TX6Y</td>\n",
       "      <td>375831002</td>\n",
       "      <td>5</td>\n",
       "    </tr>\n",
       "  </tbody>\n",
       "</table>\n",
       "</div>"
      ],
      "text/plain": [
       "             USER        ITEM  RATING\n",
       "0   A3ZHSTP095UTZ  B006GWO5WK       4\n",
       "1  A3FGOOWBV8SUCA  B007ZGO7EM       3\n",
       "2  A38P3PPW3JXA3E   849922070       3\n",
       "3   AZM3ZACWGRCC0  B0054JZC6E       1\n",
       "4  A1H1KUCQY7TX6Y   375831002       5"
      ]
     },
     "execution_count": 7,
     "metadata": {},
     "output_type": "execute_result"
    }
   ],
   "source": [
    "data.head()"
   ]
  },
  {
   "cell_type": "code",
   "execution_count": 38,
   "metadata": {},
   "outputs": [
    {
     "ename": "AttributeError",
     "evalue": "module 'matplotlib' has no attribute 'show'",
     "output_type": "error",
     "traceback": [
      "\u001b[1;31m---------------------------------------------------------------------------\u001b[0m",
      "\u001b[1;31mAttributeError\u001b[0m                            Traceback (most recent call last)",
      "\u001b[1;32m<ipython-input-38-e6d32a74386e>\u001b[0m in \u001b[0;36m<module>\u001b[1;34m\u001b[0m\n\u001b[0;32m      1\u001b[0m \u001b[0mdata\u001b[0m\u001b[1;33m[\u001b[0m\u001b[1;34m\"RATING\"\u001b[0m\u001b[1;33m]\u001b[0m\u001b[1;33m.\u001b[0m\u001b[0mhist\u001b[0m\u001b[1;33m(\u001b[0m\u001b[1;33m)\u001b[0m\u001b[1;33m\u001b[0m\u001b[1;33m\u001b[0m\u001b[0m\n\u001b[1;32m----> 2\u001b[1;33m \u001b[0mplt\u001b[0m\u001b[1;33m.\u001b[0m\u001b[0mshow\u001b[0m\u001b[1;33m(\u001b[0m\u001b[1;33m)\u001b[0m\u001b[1;33m\u001b[0m\u001b[1;33m\u001b[0m\u001b[0m\n\u001b[0m",
      "\u001b[1;31mAttributeError\u001b[0m: module 'matplotlib' has no attribute 'show'"
     ]
    },
    {
     "data": {
      "image/png": "[encoded data removed]",
      "text/plain": [
       "<Figure size 432x288 with 1 Axes>"
      ]
     },
     "metadata": {
      "needs_background": "light"
     },
     "output_type": "display_data"
    }
   ],
   "source": [
    "data[\"RATING\"].hist()\n",
    "plt.show()"
   ]
  },
  {
   "cell_type": "code",
   "execution_count": 9,
   "metadata": {},
   "outputs": [
    {
     "data": {
      "text/plain": [
       "(6667, 3)"
      ]
     },
     "execution_count": 9,
     "metadata": {},
     "output_type": "execute_result"
    }
   ],
   "source": [
    "data.shape"
   ]
  },
  {
   "cell_type": "markdown",
   "metadata": {},
   "source": [
    "#checking for null values .\n",
    "#no null values in data"
   ]
  },
  {
   "cell_type": "code",
   "execution_count": 10,
   "metadata": {},
   "outputs": [
    {
     "data": {
      "text/plain": [
       "USER      0\n",
       "ITEM      0\n",
       "RATING    0\n",
       "dtype: int64"
      ]
     },
     "execution_count": 10,
     "metadata": {},
     "output_type": "execute_result"
    }
   ],
   "source": [
    "data.isnull().sum()"
   ]
  },
  {
   "cell_type": "code",
   "execution_count": 11,
   "metadata": {},
   "outputs": [
    {
     "data": {
      "text/html": [
       "<div>\n",
       "<style scoped>\n",
       "    .dataframe tbody tr th:only-of-type {\n",
       "        vertical-align: middle;\n",
       "    }\n",
       "\n",
       "    .dataframe tbody tr th {\n",
       "        vertical-align: top;\n",
       "    }\n",
       "\n",
       "    .dataframe thead th {\n",
       "        text-align: right;\n",
       "    }\n",
       "</style>\n",
       "<table border=\"1\" class=\"dataframe\">\n",
       "  <thead>\n",
       "    <tr style=\"text-align: right;\">\n",
       "      <th></th>\n",
       "      <th>RATING</th>\n",
       "    </tr>\n",
       "  </thead>\n",
       "  <tbody>\n",
       "    <tr>\n",
       "      <td>count</td>\n",
       "      <td>6667.000000</td>\n",
       "    </tr>\n",
       "    <tr>\n",
       "      <td>mean</td>\n",
       "      <td>3.487476</td>\n",
       "    </tr>\n",
       "    <tr>\n",
       "      <td>std</td>\n",
       "      <td>1.335865</td>\n",
       "    </tr>\n",
       "    <tr>\n",
       "      <td>min</td>\n",
       "      <td>1.000000</td>\n",
       "    </tr>\n",
       "    <tr>\n",
       "      <td>25%</td>\n",
       "      <td>3.000000</td>\n",
       "    </tr>\n",
       "    <tr>\n",
       "      <td>50%</td>\n",
       "      <td>4.000000</td>\n",
       "    </tr>\n",
       "    <tr>\n",
       "      <td>75%</td>\n",
       "      <td>5.000000</td>\n",
       "    </tr>\n",
       "    <tr>\n",
       "      <td>max</td>\n",
       "      <td>5.000000</td>\n",
       "    </tr>\n",
       "  </tbody>\n",
       "</table>\n",
       "</div>"
      ],
      "text/plain": [
       "            RATING\n",
       "count  6667.000000\n",
       "mean      3.487476\n",
       "std       1.335865\n",
       "min       1.000000\n",
       "25%       3.000000\n",
       "50%       4.000000\n",
       "75%       5.000000\n",
       "max       5.000000"
      ]
     },
     "execution_count": 11,
     "metadata": {},
     "output_type": "execute_result"
    }
   ],
   "source": [
    "data.describe()"
   ]
  },
  {
   "cell_type": "markdown",
   "metadata": {},
   "source": [
    "#Calculating the total rating for each item and merging with main dataframe"
   ]
  },
  {
   "cell_type": "code",
   "execution_count": 12,
   "metadata": {},
   "outputs": [],
   "source": [
    "Total_Rating=(data.groupby(by=['ITEM'])[\"RATING\"].count().reset_index().rename(columns={\"RATING\":\"TOTAL_RATING\"})[[\"ITEM\",\"TOTAL_RATING\"]])"
   ]
  },
  {
   "cell_type": "code",
   "execution_count": 13,
   "metadata": {},
   "outputs": [
    {
     "data": {
      "text/html": [
       "<div>\n",
       "<style scoped>\n",
       "    .dataframe tbody tr th:only-of-type {\n",
       "        vertical-align: middle;\n",
       "    }\n",
       "\n",
       "    .dataframe tbody tr th {\n",
       "        vertical-align: top;\n",
       "    }\n",
       "\n",
       "    .dataframe thead th {\n",
       "        text-align: right;\n",
       "    }\n",
       "</style>\n",
       "<table border=\"1\" class=\"dataframe\">\n",
       "  <thead>\n",
       "    <tr style=\"text-align: right;\">\n",
       "      <th></th>\n",
       "      <th>ITEM</th>\n",
       "      <th>TOTAL_RATING</th>\n",
       "    </tr>\n",
       "  </thead>\n",
       "  <tbody>\n",
       "    <tr>\n",
       "      <td>0</td>\n",
       "      <td>7386648</td>\n",
       "      <td>78</td>\n",
       "    </tr>\n",
       "    <tr>\n",
       "      <td>1</td>\n",
       "      <td>7442920</td>\n",
       "      <td>81</td>\n",
       "    </tr>\n",
       "    <tr>\n",
       "      <td>2</td>\n",
       "      <td>7444117</td>\n",
       "      <td>85</td>\n",
       "    </tr>\n",
       "    <tr>\n",
       "      <td>3</td>\n",
       "      <td>141039280</td>\n",
       "      <td>143</td>\n",
       "    </tr>\n",
       "    <tr>\n",
       "      <td>4</td>\n",
       "      <td>307943232</td>\n",
       "      <td>43</td>\n",
       "    </tr>\n",
       "  </tbody>\n",
       "</table>\n",
       "</div>"
      ],
      "text/plain": [
       "        ITEM  TOTAL_RATING\n",
       "0    7386648            78\n",
       "1    7442920            81\n",
       "2    7444117            85\n",
       "3  141039280           143\n",
       "4  307943232            43"
      ]
     },
     "execution_count": 13,
     "metadata": {},
     "output_type": "execute_result"
    }
   ],
   "source": [
    "Total_Rating.head()"
   ]
  },
  {
   "cell_type": "code",
   "execution_count": 14,
   "metadata": {},
   "outputs": [
    {
     "data": {
      "text/plain": [
       "<matplotlib.axes._subplots.AxesSubplot at 0x25023b9f470>"
      ]
     },
     "execution_count": 14,
     "metadata": {},
     "output_type": "execute_result"
    },
    {
     "data": {
      "image/png": "[encoded data removed]",
      "text/plain": [
       "<Figure size 432x288 with 1 Axes>"
      ]
     },
     "metadata": {
      "needs_background": "light"
     },
     "output_type": "display_data"
    }
   ],
   "source": [
    "Total_Rating[\"TOTAL_RATING\"].hist()"
   ]
  },
  {
   "cell_type": "markdown",
   "metadata": {},
   "source": [
    "Total rating for all items from 0 to 250"
   ]
  },
  {
   "cell_type": "code",
   "execution_count": 15,
   "metadata": {},
   "outputs": [],
   "source": [
    "Ratingdata=data.merge(Total_Rating,left_on=\"ITEM\",right_on=\"ITEM\",how=\"left\")"
   ]
  },
  {
   "cell_type": "code",
   "execution_count": 16,
   "metadata": {},
   "outputs": [
    {
     "data": {
      "text/html": [
       "<div>\n",
       "<style scoped>\n",
       "    .dataframe tbody tr th:only-of-type {\n",
       "        vertical-align: middle;\n",
       "    }\n",
       "\n",
       "    .dataframe tbody tr th {\n",
       "        vertical-align: top;\n",
       "    }\n",
       "\n",
       "    .dataframe thead th {\n",
       "        text-align: right;\n",
       "    }\n",
       "</style>\n",
       "<table border=\"1\" class=\"dataframe\">\n",
       "  <thead>\n",
       "    <tr style=\"text-align: right;\">\n",
       "      <th></th>\n",
       "      <th>USER</th>\n",
       "      <th>ITEM</th>\n",
       "      <th>RATING</th>\n",
       "      <th>TOTAL_RATING</th>\n",
       "    </tr>\n",
       "  </thead>\n",
       "  <tbody>\n",
       "    <tr>\n",
       "      <td>0</td>\n",
       "      <td>A3ZHSTP095UTZ</td>\n",
       "      <td>B006GWO5WK</td>\n",
       "      <td>4</td>\n",
       "      <td>131</td>\n",
       "    </tr>\n",
       "    <tr>\n",
       "      <td>1</td>\n",
       "      <td>A3FGOOWBV8SUCA</td>\n",
       "      <td>B007ZGO7EM</td>\n",
       "      <td>3</td>\n",
       "      <td>54</td>\n",
       "    </tr>\n",
       "    <tr>\n",
       "      <td>2</td>\n",
       "      <td>A38P3PPW3JXA3E</td>\n",
       "      <td>849922070</td>\n",
       "      <td>3</td>\n",
       "      <td>76</td>\n",
       "    </tr>\n",
       "    <tr>\n",
       "      <td>3</td>\n",
       "      <td>AZM3ZACWGRCC0</td>\n",
       "      <td>B0054JZC6E</td>\n",
       "      <td>1</td>\n",
       "      <td>10</td>\n",
       "    </tr>\n",
       "    <tr>\n",
       "      <td>4</td>\n",
       "      <td>A1H1KUCQY7TX6Y</td>\n",
       "      <td>375831002</td>\n",
       "      <td>5</td>\n",
       "      <td>108</td>\n",
       "    </tr>\n",
       "  </tbody>\n",
       "</table>\n",
       "</div>"
      ],
      "text/plain": [
       "             USER        ITEM  RATING  TOTAL_RATING\n",
       "0   A3ZHSTP095UTZ  B006GWO5WK       4           131\n",
       "1  A3FGOOWBV8SUCA  B007ZGO7EM       3            54\n",
       "2  A38P3PPW3JXA3E   849922070       3            76\n",
       "3   AZM3ZACWGRCC0  B0054JZC6E       1            10\n",
       "4  A1H1KUCQY7TX6Y   375831002       5           108"
      ]
     },
     "execution_count": 16,
     "metadata": {},
     "output_type": "execute_result"
    }
   ],
   "source": [
    "Ratingdata.head()"
   ]
  },
  {
   "cell_type": "markdown",
   "metadata": {},
   "source": [
    "#fixing threshold value 70.So recommending only items with value more than 70. low rated items are not recommended "
   ]
  },
  {
   "cell_type": "code",
   "execution_count": 17,
   "metadata": {},
   "outputs": [],
   "source": [
    "threshold=70\n"
   ]
  },
  {
   "cell_type": "code",
   "execution_count": 18,
   "metadata": {},
   "outputs": [
    {
     "data": {
      "text/html": [
       "<div>\n",
       "<style scoped>\n",
       "    .dataframe tbody tr th:only-of-type {\n",
       "        vertical-align: middle;\n",
       "    }\n",
       "\n",
       "    .dataframe tbody tr th {\n",
       "        vertical-align: top;\n",
       "    }\n",
       "\n",
       "    .dataframe thead th {\n",
       "        text-align: right;\n",
       "    }\n",
       "</style>\n",
       "<table border=\"1\" class=\"dataframe\">\n",
       "  <thead>\n",
       "    <tr style=\"text-align: right;\">\n",
       "      <th></th>\n",
       "      <th>USER</th>\n",
       "      <th>ITEM</th>\n",
       "      <th>RATING</th>\n",
       "      <th>TOTAL_RATING</th>\n",
       "    </tr>\n",
       "  </thead>\n",
       "  <tbody>\n",
       "    <tr>\n",
       "      <td>0</td>\n",
       "      <td>A3ZHSTP095UTZ</td>\n",
       "      <td>B006GWO5WK</td>\n",
       "      <td>4</td>\n",
       "      <td>131</td>\n",
       "    </tr>\n",
       "    <tr>\n",
       "      <td>2</td>\n",
       "      <td>A38P3PPW3JXA3E</td>\n",
       "      <td>849922070</td>\n",
       "      <td>3</td>\n",
       "      <td>76</td>\n",
       "    </tr>\n",
       "    <tr>\n",
       "      <td>4</td>\n",
       "      <td>A1H1KUCQY7TX6Y</td>\n",
       "      <td>375831002</td>\n",
       "      <td>5</td>\n",
       "      <td>108</td>\n",
       "    </tr>\n",
       "    <tr>\n",
       "      <td>5</td>\n",
       "      <td>A28J0047O2LM64</td>\n",
       "      <td>345803485</td>\n",
       "      <td>2</td>\n",
       "      <td>96</td>\n",
       "    </tr>\n",
       "    <tr>\n",
       "      <td>6</td>\n",
       "      <td>A3LZA0ZL5IA0MS</td>\n",
       "      <td>B003ELYQGG</td>\n",
       "      <td>4</td>\n",
       "      <td>117</td>\n",
       "    </tr>\n",
       "  </tbody>\n",
       "</table>\n",
       "</div>"
      ],
      "text/plain": [
       "             USER        ITEM  RATING  TOTAL_RATING\n",
       "0   A3ZHSTP095UTZ  B006GWO5WK       4           131\n",
       "2  A38P3PPW3JXA3E   849922070       3            76\n",
       "4  A1H1KUCQY7TX6Y   375831002       5           108\n",
       "5  A28J0047O2LM64   345803485       2            96\n",
       "6  A3LZA0ZL5IA0MS  B003ELYQGG       4           117"
      ]
     },
     "execution_count": 18,
     "metadata": {},
     "output_type": "execute_result"
    }
   ],
   "source": [
    "Rating_popular_item=Ratingdata.query(\"TOTAL_RATING >= @threshold\")\n",
    "Rating_popular_item.head()"
   ]
  },
  {
   "cell_type": "code",
   "execution_count": 19,
   "metadata": {},
   "outputs": [
    {
     "data": {
      "text/plain": [
       "<matplotlib.axes._subplots.AxesSubplot at 0x25023527400>"
      ]
     },
     "execution_count": 19,
     "metadata": {},
     "output_type": "execute_result"
    },
    {
     "data": {
      "image/png": "[encoded data removed]",
      "text/plain": [
       "<Figure size 432x288 with 1 Axes>"
      ]
     },
     "metadata": {
      "needs_background": "light"
     },
     "output_type": "display_data"
    }
   ],
   "source": [
    "Rating_popular_item[\"TOTAL_RATING\"].hist()"
   ]
  },
  {
   "cell_type": "markdown",
   "metadata": {},
   "source": [
    "Filtered Rating above 70"
   ]
  },
  {
   "cell_type": "code",
   "execution_count": 20,
   "metadata": {},
   "outputs": [
    {
     "data": {
      "text/plain": [
       "(4191, 4)"
      ]
     },
     "execution_count": 20,
     "metadata": {},
     "output_type": "execute_result"
    }
   ],
   "source": [
    "Rating_popular_item.shape"
   ]
  },
  {
   "cell_type": "code",
   "execution_count": 21,
   "metadata": {},
   "outputs": [],
   "source": [
    "#Ratingdata=data.merge(Total_Rating,left_on=\"ITEM\",right_on=\"ITEM\",how=\"left\")\n",
    "Rating_popular_item=Rating_popular_item.merge(item_desc,left_on=\"ITEM\",right_on=\"ITEM\",how=\"left\")"
   ]
  },
  {
   "cell_type": "code",
   "execution_count": 22,
   "metadata": {},
   "outputs": [
    {
     "data": {
      "text/html": [
       "<div>\n",
       "<style scoped>\n",
       "    .dataframe tbody tr th:only-of-type {\n",
       "        vertical-align: middle;\n",
       "    }\n",
       "\n",
       "    .dataframe tbody tr th {\n",
       "        vertical-align: top;\n",
       "    }\n",
       "\n",
       "    .dataframe thead th {\n",
       "        text-align: right;\n",
       "    }\n",
       "</style>\n",
       "<table border=\"1\" class=\"dataframe\">\n",
       "  <thead>\n",
       "    <tr style=\"text-align: right;\">\n",
       "      <th></th>\n",
       "      <th>USER</th>\n",
       "      <th>ITEM</th>\n",
       "      <th>RATING</th>\n",
       "      <th>TOTAL_RATING</th>\n",
       "      <th>title</th>\n",
       "    </tr>\n",
       "  </thead>\n",
       "  <tbody>\n",
       "    <tr>\n",
       "      <td>0</td>\n",
       "      <td>A3ZHSTP095UTZ</td>\n",
       "      <td>B006GWO5WK</td>\n",
       "      <td>4</td>\n",
       "      <td>131</td>\n",
       "      <td>Akhiyon Se Goli Maare\\t\\t\\t\\t\\t\\t\\t\\t\\t\\t\\t\\t\\...</td>\n",
       "    </tr>\n",
       "    <tr>\n",
       "      <td>1</td>\n",
       "      <td>A38P3PPW3JXA3E</td>\n",
       "      <td>849922070</td>\n",
       "      <td>3</td>\n",
       "      <td>76</td>\n",
       "      <td>Pedro's Cog Wrench\\t\\t\\t\\t\\t\\t\\t\\t\\t\\t\\t\\t\\t\\t...</td>\n",
       "    </tr>\n",
       "    <tr>\n",
       "      <td>2</td>\n",
       "      <td>A1H1KUCQY7TX6Y</td>\n",
       "      <td>375831002</td>\n",
       "      <td>5</td>\n",
       "      <td>108</td>\n",
       "      <td>Hijacked: Flight 285\\t\\t\\t\\t\\t\\t\\t\\t\\t\\t\\t\\t\\t</td>\n",
       "    </tr>\n",
       "    <tr>\n",
       "      <td>3</td>\n",
       "      <td>A28J0047O2LM64</td>\n",
       "      <td>345803485</td>\n",
       "      <td>2</td>\n",
       "      <td>96</td>\n",
       "      <td>Great Books\\t</td>\n",
       "    </tr>\n",
       "    <tr>\n",
       "      <td>4</td>\n",
       "      <td>A28J0047O2LM64</td>\n",
       "      <td>345803485</td>\n",
       "      <td>2</td>\n",
       "      <td>96</td>\n",
       "      <td>Great Books\\t\\t\\t\\t\\t\\t\\t\\t\\t</td>\n",
       "    </tr>\n",
       "  </tbody>\n",
       "</table>\n",
       "</div>"
      ],
      "text/plain": [
       "             USER        ITEM  RATING  TOTAL_RATING  \\\n",
       "0   A3ZHSTP095UTZ  B006GWO5WK       4           131   \n",
       "1  A38P3PPW3JXA3E   849922070       3            76   \n",
       "2  A1H1KUCQY7TX6Y   375831002       5           108   \n",
       "3  A28J0047O2LM64   345803485       2            96   \n",
       "4  A28J0047O2LM64   345803485       2            96   \n",
       "\n",
       "                                               title  \n",
       "0  Akhiyon Se Goli Maare\\t\\t\\t\\t\\t\\t\\t\\t\\t\\t\\t\\t\\...  \n",
       "1  Pedro's Cog Wrench\\t\\t\\t\\t\\t\\t\\t\\t\\t\\t\\t\\t\\t\\t...  \n",
       "2     Hijacked: Flight 285\\t\\t\\t\\t\\t\\t\\t\\t\\t\\t\\t\\t\\t  \n",
       "3                                      Great Books\\t  \n",
       "4                      Great Books\\t\\t\\t\\t\\t\\t\\t\\t\\t  "
      ]
     },
     "execution_count": 22,
     "metadata": {},
     "output_type": "execute_result"
    }
   ],
   "source": [
    "Rating_popular_item.head()"
   ]
  },
  {
   "cell_type": "code",
   "execution_count": 23,
   "metadata": {},
   "outputs": [],
   "source": [
    "def clean_title(statement):\n",
    "    return ' '.join(re.sub(\"/@%&|(@[A-Za-z0-9]+)|([^0-9A-Za-z \\t])|(\\w+:\\/\\/\\S+)\", \" \", statement).split())"
   ]
  },
  {
   "cell_type": "code",
   "execution_count": 24,
   "metadata": {},
   "outputs": [],
   "source": [
    "import re"
   ]
  },
  {
   "cell_type": "code",
   "execution_count": 25,
   "metadata": {},
   "outputs": [
    {
     "name": "stderr",
     "output_type": "stream",
     "text": [
      "C:\\Users\\lenovo\\Anaconda3\\lib\\site-packages\\ipykernel_launcher.py:2: SettingWithCopyWarning: \n",
      "A value is trying to be set on a copy of a slice from a DataFrame\n",
      "\n",
      "See the caveats in the documentation: http://pandas.pydata.org/pandas-docs/stable/user_guide/indexing.html#returning-a-view-versus-a-copy\n",
      "  \n"
     ]
    }
   ],
   "source": [
    "for i in Rating_popular_item['title'].index:\n",
    "    Rating_popular_item['title'][i] = clean_title(Rating_popular_item['title'][i])"
   ]
  },
  {
   "cell_type": "markdown",
   "metadata": {},
   "source": [
    "#collabrating filtering"
   ]
  },
  {
   "cell_type": "markdown",
   "metadata": {},
   "source": [
    "#using csr_matrix"
   ]
  },
  {
   "cell_type": "code",
   "execution_count": 26,
   "metadata": {},
   "outputs": [],
   "source": [
    "from scipy.sparse import csr_matrix\n",
    "Rating_popular_item=Rating_popular_item.drop_duplicates([\"USER\",\"ITEM\"])\n",
    "Rating_popular_item_pivot=Rating_popular_item.pivot(index=\"title\",columns=\"USER\",values=\"TOTAL_RATING\").fillna(0)\n",
    "Rating_popular_item_matrix=csr_matrix(Rating_popular_item_pivot.values)\n"
   ]
  },
  {
   "cell_type": "code",
   "execution_count": 27,
   "metadata": {},
   "outputs": [
    {
     "data": {
      "text/html": [
       "<div>\n",
       "<style scoped>\n",
       "    .dataframe tbody tr th:only-of-type {\n",
       "        vertical-align: middle;\n",
       "    }\n",
       "\n",
       "    .dataframe tbody tr th {\n",
       "        vertical-align: top;\n",
       "    }\n",
       "\n",
       "    .dataframe thead th {\n",
       "        text-align: right;\n",
       "    }\n",
       "</style>\n",
       "<table border=\"1\" class=\"dataframe\">\n",
       "  <thead>\n",
       "    <tr style=\"text-align: right;\">\n",
       "      <th>USER</th>\n",
       "      <th>A03208803KA5HCUYS17Z1</th>\n",
       "      <th>A1002LJCM20EZ5</th>\n",
       "      <th>A100WO06OQR8BQ</th>\n",
       "      <th>A103BJIOJSDJL1</th>\n",
       "      <th>A1041053SID37WN8GTT8</th>\n",
       "      <th>A105A034ZG9EHO</th>\n",
       "      <th>A10938QNO7IYIB</th>\n",
       "      <th>A10ANCEOWK5GBN</th>\n",
       "      <th>A10BZSGALQPS0V</th>\n",
       "      <th>A10C5SL817NSB7</th>\n",
       "      <th>...</th>\n",
       "      <th>AZQWH5DUZQIZ7</th>\n",
       "      <th>AZRJH4JFB59VC</th>\n",
       "      <th>AZV2U6GU5QA6C</th>\n",
       "      <th>AZVVD2TRCFHRL</th>\n",
       "      <th>AZW1Z3FJTV66W</th>\n",
       "      <th>AZWC9XAY34IPW</th>\n",
       "      <th>AZWG3PF80735Q</th>\n",
       "      <th>AZXEZRXZQL1H2</th>\n",
       "      <th>AZXS6P5QWNMLC</th>\n",
       "      <th>AZZYW4YOE1B6E</th>\n",
       "    </tr>\n",
       "    <tr>\n",
       "      <th>title</th>\n",
       "      <th></th>\n",
       "      <th></th>\n",
       "      <th></th>\n",
       "      <th></th>\n",
       "      <th></th>\n",
       "      <th></th>\n",
       "      <th></th>\n",
       "      <th></th>\n",
       "      <th></th>\n",
       "      <th></th>\n",
       "      <th></th>\n",
       "      <th></th>\n",
       "      <th></th>\n",
       "      <th></th>\n",
       "      <th></th>\n",
       "      <th></th>\n",
       "      <th></th>\n",
       "      <th></th>\n",
       "      <th></th>\n",
       "      <th></th>\n",
       "      <th></th>\n",
       "    </tr>\n",
       "  </thead>\n",
       "  <tbody>\n",
       "    <tr>\n",
       "      <td>Akhiyon Se Goli Maare</td>\n",
       "      <td>0.0</td>\n",
       "      <td>0.0</td>\n",
       "      <td>0.0</td>\n",
       "      <td>0.0</td>\n",
       "      <td>0.0</td>\n",
       "      <td>0.0</td>\n",
       "      <td>0.0</td>\n",
       "      <td>0.0</td>\n",
       "      <td>0.0</td>\n",
       "      <td>0.0</td>\n",
       "      <td>...</td>\n",
       "      <td>0.0</td>\n",
       "      <td>0.0</td>\n",
       "      <td>0.0</td>\n",
       "      <td>0.0</td>\n",
       "      <td>0.0</td>\n",
       "      <td>0.0</td>\n",
       "      <td>0.0</td>\n",
       "      <td>0.0</td>\n",
       "      <td>0.0</td>\n",
       "      <td>0.0</td>\n",
       "    </tr>\n",
       "    <tr>\n",
       "      <td>AmazonBasics Apple Certified Lightning to USB Cable 3 Feet 0 9 Meter Black</td>\n",
       "      <td>0.0</td>\n",
       "      <td>0.0</td>\n",
       "      <td>0.0</td>\n",
       "      <td>0.0</td>\n",
       "      <td>0.0</td>\n",
       "      <td>0.0</td>\n",
       "      <td>0.0</td>\n",
       "      <td>0.0</td>\n",
       "      <td>0.0</td>\n",
       "      <td>0.0</td>\n",
       "      <td>...</td>\n",
       "      <td>0.0</td>\n",
       "      <td>0.0</td>\n",
       "      <td>0.0</td>\n",
       "      <td>0.0</td>\n",
       "      <td>0.0</td>\n",
       "      <td>0.0</td>\n",
       "      <td>0.0</td>\n",
       "      <td>0.0</td>\n",
       "      <td>0.0</td>\n",
       "      <td>0.0</td>\n",
       "    </tr>\n",
       "    <tr>\n",
       "      <td>AmazonBasics High Speed HDMI Cable 15 Feet 4 6 Meters Supports Ethernet</td>\n",
       "      <td>0.0</td>\n",
       "      <td>0.0</td>\n",
       "      <td>0.0</td>\n",
       "      <td>0.0</td>\n",
       "      <td>0.0</td>\n",
       "      <td>0.0</td>\n",
       "      <td>0.0</td>\n",
       "      <td>0.0</td>\n",
       "      <td>0.0</td>\n",
       "      <td>0.0</td>\n",
       "      <td>...</td>\n",
       "      <td>0.0</td>\n",
       "      <td>0.0</td>\n",
       "      <td>0.0</td>\n",
       "      <td>0.0</td>\n",
       "      <td>0.0</td>\n",
       "      <td>0.0</td>\n",
       "      <td>0.0</td>\n",
       "      <td>0.0</td>\n",
       "      <td>0.0</td>\n",
       "      <td>0.0</td>\n",
       "    </tr>\n",
       "    <tr>\n",
       "      <td>Avengers</td>\n",
       "      <td>0.0</td>\n",
       "      <td>0.0</td>\n",
       "      <td>0.0</td>\n",
       "      <td>0.0</td>\n",
       "      <td>0.0</td>\n",
       "      <td>0.0</td>\n",
       "      <td>0.0</td>\n",
       "      <td>0.0</td>\n",
       "      <td>0.0</td>\n",
       "      <td>0.0</td>\n",
       "      <td>...</td>\n",
       "      <td>0.0</td>\n",
       "      <td>0.0</td>\n",
       "      <td>0.0</td>\n",
       "      <td>0.0</td>\n",
       "      <td>0.0</td>\n",
       "      <td>0.0</td>\n",
       "      <td>0.0</td>\n",
       "      <td>0.0</td>\n",
       "      <td>0.0</td>\n",
       "      <td>0.0</td>\n",
       "    </tr>\n",
       "    <tr>\n",
       "      <td>Comprehensive ST Series USB Cable 2 0 A to B Cable 25 FT</td>\n",
       "      <td>81.0</td>\n",
       "      <td>0.0</td>\n",
       "      <td>0.0</td>\n",
       "      <td>0.0</td>\n",
       "      <td>0.0</td>\n",
       "      <td>0.0</td>\n",
       "      <td>0.0</td>\n",
       "      <td>0.0</td>\n",
       "      <td>0.0</td>\n",
       "      <td>0.0</td>\n",
       "      <td>...</td>\n",
       "      <td>0.0</td>\n",
       "      <td>0.0</td>\n",
       "      <td>0.0</td>\n",
       "      <td>0.0</td>\n",
       "      <td>0.0</td>\n",
       "      <td>0.0</td>\n",
       "      <td>0.0</td>\n",
       "      <td>0.0</td>\n",
       "      <td>0.0</td>\n",
       "      <td>0.0</td>\n",
       "    </tr>\n",
       "  </tbody>\n",
       "</table>\n",
       "<p>5 rows × 3590 columns</p>\n",
       "</div>"
      ],
      "text/plain": [
       "USER                                                A03208803KA5HCUYS17Z1  \\\n",
       "title                                                                       \n",
       "Akhiyon Se Goli Maare                                                 0.0   \n",
       "AmazonBasics Apple Certified Lightning to USB C...                    0.0   \n",
       "AmazonBasics High Speed HDMI Cable 15 Feet 4 6 ...                    0.0   \n",
       "Avengers                                                              0.0   \n",
       "Comprehensive ST Series USB Cable 2 0 A to B Ca...                   81.0   \n",
       "\n",
       "USER                                                A1002LJCM20EZ5  \\\n",
       "title                                                                \n",
       "Akhiyon Se Goli Maare                                          0.0   \n",
       "AmazonBasics Apple Certified Lightning to USB C...             0.0   \n",
       "AmazonBasics High Speed HDMI Cable 15 Feet 4 6 ...             0.0   \n",
       "Avengers                                                       0.0   \n",
       "Comprehensive ST Series USB Cable 2 0 A to B Ca...             0.0   \n",
       "\n",
       "USER                                                A100WO06OQR8BQ  \\\n",
       "title                                                                \n",
       "Akhiyon Se Goli Maare                                          0.0   \n",
       "AmazonBasics Apple Certified Lightning to USB C...             0.0   \n",
       "AmazonBasics High Speed HDMI Cable 15 Feet 4 6 ...             0.0   \n",
       "Avengers                                                       0.0   \n",
       "Comprehensive ST Series USB Cable 2 0 A to B Ca...             0.0   \n",
       "\n",
       "USER                                                A103BJIOJSDJL1  \\\n",
       "title                                                                \n",
       "Akhiyon Se Goli Maare                                          0.0   \n",
       "AmazonBasics Apple Certified Lightning to USB C...             0.0   \n",
       "AmazonBasics High Speed HDMI Cable 15 Feet 4 6 ...             0.0   \n",
       "Avengers                                                       0.0   \n",
       "Comprehensive ST Series USB Cable 2 0 A to B Ca...             0.0   \n",
       "\n",
       "USER                                                A1041053SID37WN8GTT8  \\\n",
       "title                                                                      \n",
       "Akhiyon Se Goli Maare                                                0.0   \n",
       "AmazonBasics Apple Certified Lightning to USB C...                   0.0   \n",
       "AmazonBasics High Speed HDMI Cable 15 Feet 4 6 ...                   0.0   \n",
       "Avengers                                                             0.0   \n",
       "Comprehensive ST Series USB Cable 2 0 A to B Ca...                   0.0   \n",
       "\n",
       "USER                                                A105A034ZG9EHO  \\\n",
       "title                                                                \n",
       "Akhiyon Se Goli Maare                                          0.0   \n",
       "AmazonBasics Apple Certified Lightning to USB C...             0.0   \n",
       "AmazonBasics High Speed HDMI Cable 15 Feet 4 6 ...             0.0   \n",
       "Avengers                                                       0.0   \n",
       "Comprehensive ST Series USB Cable 2 0 A to B Ca...             0.0   \n",
       "\n",
       "USER                                                A10938QNO7IYIB  \\\n",
       "title                                                                \n",
       "Akhiyon Se Goli Maare                                          0.0   \n",
       "AmazonBasics Apple Certified Lightning to USB C...             0.0   \n",
       "AmazonBasics High Speed HDMI Cable 15 Feet 4 6 ...             0.0   \n",
       "Avengers                                                       0.0   \n",
       "Comprehensive ST Series USB Cable 2 0 A to B Ca...             0.0   \n",
       "\n",
       "USER                                                A10ANCEOWK5GBN  \\\n",
       "title                                                                \n",
       "Akhiyon Se Goli Maare                                          0.0   \n",
       "AmazonBasics Apple Certified Lightning to USB C...             0.0   \n",
       "AmazonBasics High Speed HDMI Cable 15 Feet 4 6 ...             0.0   \n",
       "Avengers                                                       0.0   \n",
       "Comprehensive ST Series USB Cable 2 0 A to B Ca...             0.0   \n",
       "\n",
       "USER                                                A10BZSGALQPS0V  \\\n",
       "title                                                                \n",
       "Akhiyon Se Goli Maare                                          0.0   \n",
       "AmazonBasics Apple Certified Lightning to USB C...             0.0   \n",
       "AmazonBasics High Speed HDMI Cable 15 Feet 4 6 ...             0.0   \n",
       "Avengers                                                       0.0   \n",
       "Comprehensive ST Series USB Cable 2 0 A to B Ca...             0.0   \n",
       "\n",
       "USER                                                A10C5SL817NSB7  ...  \\\n",
       "title                                                               ...   \n",
       "Akhiyon Se Goli Maare                                          0.0  ...   \n",
       "AmazonBasics Apple Certified Lightning to USB C...             0.0  ...   \n",
       "AmazonBasics High Speed HDMI Cable 15 Feet 4 6 ...             0.0  ...   \n",
       "Avengers                                                       0.0  ...   \n",
       "Comprehensive ST Series USB Cable 2 0 A to B Ca...             0.0  ...   \n",
       "\n",
       "USER                                                AZQWH5DUZQIZ7  \\\n",
       "title                                                               \n",
       "Akhiyon Se Goli Maare                                         0.0   \n",
       "AmazonBasics Apple Certified Lightning to USB C...            0.0   \n",
       "AmazonBasics High Speed HDMI Cable 15 Feet 4 6 ...            0.0   \n",
       "Avengers                                                      0.0   \n",
       "Comprehensive ST Series USB Cable 2 0 A to B Ca...            0.0   \n",
       "\n",
       "USER                                                AZRJH4JFB59VC  \\\n",
       "title                                                               \n",
       "Akhiyon Se Goli Maare                                         0.0   \n",
       "AmazonBasics Apple Certified Lightning to USB C...            0.0   \n",
       "AmazonBasics High Speed HDMI Cable 15 Feet 4 6 ...            0.0   \n",
       "Avengers                                                      0.0   \n",
       "Comprehensive ST Series USB Cable 2 0 A to B Ca...            0.0   \n",
       "\n",
       "USER                                                AZV2U6GU5QA6C  \\\n",
       "title                                                               \n",
       "Akhiyon Se Goli Maare                                         0.0   \n",
       "AmazonBasics Apple Certified Lightning to USB C...            0.0   \n",
       "AmazonBasics High Speed HDMI Cable 15 Feet 4 6 ...            0.0   \n",
       "Avengers                                                      0.0   \n",
       "Comprehensive ST Series USB Cable 2 0 A to B Ca...            0.0   \n",
       "\n",
       "USER                                                AZVVD2TRCFHRL  \\\n",
       "title                                                               \n",
       "Akhiyon Se Goli Maare                                         0.0   \n",
       "AmazonBasics Apple Certified Lightning to USB C...            0.0   \n",
       "AmazonBasics High Speed HDMI Cable 15 Feet 4 6 ...            0.0   \n",
       "Avengers                                                      0.0   \n",
       "Comprehensive ST Series USB Cable 2 0 A to B Ca...            0.0   \n",
       "\n",
       "USER                                                AZW1Z3FJTV66W  \\\n",
       "title                                                               \n",
       "Akhiyon Se Goli Maare                                         0.0   \n",
       "AmazonBasics Apple Certified Lightning to USB C...            0.0   \n",
       "AmazonBasics High Speed HDMI Cable 15 Feet 4 6 ...            0.0   \n",
       "Avengers                                                      0.0   \n",
       "Comprehensive ST Series USB Cable 2 0 A to B Ca...            0.0   \n",
       "\n",
       "USER                                                AZWC9XAY34IPW  \\\n",
       "title                                                               \n",
       "Akhiyon Se Goli Maare                                         0.0   \n",
       "AmazonBasics Apple Certified Lightning to USB C...            0.0   \n",
       "AmazonBasics High Speed HDMI Cable 15 Feet 4 6 ...            0.0   \n",
       "Avengers                                                      0.0   \n",
       "Comprehensive ST Series USB Cable 2 0 A to B Ca...            0.0   \n",
       "\n",
       "USER                                                AZWG3PF80735Q  \\\n",
       "title                                                               \n",
       "Akhiyon Se Goli Maare                                         0.0   \n",
       "AmazonBasics Apple Certified Lightning to USB C...            0.0   \n",
       "AmazonBasics High Speed HDMI Cable 15 Feet 4 6 ...            0.0   \n",
       "Avengers                                                      0.0   \n",
       "Comprehensive ST Series USB Cable 2 0 A to B Ca...            0.0   \n",
       "\n",
       "USER                                                AZXEZRXZQL1H2  \\\n",
       "title                                                               \n",
       "Akhiyon Se Goli Maare                                         0.0   \n",
       "AmazonBasics Apple Certified Lightning to USB C...            0.0   \n",
       "AmazonBasics High Speed HDMI Cable 15 Feet 4 6 ...            0.0   \n",
       "Avengers                                                      0.0   \n",
       "Comprehensive ST Series USB Cable 2 0 A to B Ca...            0.0   \n",
       "\n",
       "USER                                                AZXS6P5QWNMLC  \\\n",
       "title                                                               \n",
       "Akhiyon Se Goli Maare                                         0.0   \n",
       "AmazonBasics Apple Certified Lightning to USB C...            0.0   \n",
       "AmazonBasics High Speed HDMI Cable 15 Feet 4 6 ...            0.0   \n",
       "Avengers                                                      0.0   \n",
       "Comprehensive ST Series USB Cable 2 0 A to B Ca...            0.0   \n",
       "\n",
       "USER                                                AZZYW4YOE1B6E  \n",
       "title                                                              \n",
       "Akhiyon Se Goli Maare                                         0.0  \n",
       "AmazonBasics Apple Certified Lightning to USB C...            0.0  \n",
       "AmazonBasics High Speed HDMI Cable 15 Feet 4 6 ...            0.0  \n",
       "Avengers                                                      0.0  \n",
       "Comprehensive ST Series USB Cable 2 0 A to B Ca...            0.0  \n",
       "\n",
       "[5 rows x 3590 columns]"
      ]
     },
     "execution_count": 27,
     "metadata": {},
     "output_type": "execute_result"
    }
   ],
   "source": [
    "Rating_popular_item_pivot.head()"
   ]
  },
  {
   "cell_type": "markdown",
   "metadata": {},
   "source": [
    "# KNN"
   ]
  },
  {
   "cell_type": "markdown",
   "metadata": {},
   "source": [
    "#item_based"
   ]
  },
  {
   "cell_type": "code",
   "execution_count": 28,
   "metadata": {},
   "outputs": [
    {
     "data": {
      "text/plain": [
       "NearestNeighbors(algorithm='brute', leaf_size=30, metric='cosine',\n",
       "                 metric_params=None, n_jobs=None, n_neighbors=5, p=2,\n",
       "                 radius=1.0)"
      ]
     },
     "execution_count": 28,
     "metadata": {},
     "output_type": "execute_result"
    }
   ],
   "source": [
    "from sklearn.neighbors import NearestNeighbors\n",
    "\n",
    "model_knn= NearestNeighbors(metric=\"cosine\",algorithm=\"brute\")\n",
    "model_knn.fit(Rating_popular_item_matrix)"
   ]
  },
  {
   "cell_type": "code",
   "execution_count": 29,
   "metadata": {},
   "outputs": [],
   "source": [
    "#Rating_popular_item_pivot.iloc[query_index,:].values.reshape(1,-1)"
   ]
  },
  {
   "cell_type": "code",
   "execution_count": 30,
   "metadata": {},
   "outputs": [
    {
     "name": "stdout",
     "output_type": "stream",
     "text": [
      "0\n"
     ]
    }
   ],
   "source": [
    "query_index=np.random.choice(Rating_popular_item_pivot.shape[0])\n",
    "print(query_index)\n",
    "distances,indices=model_knn.kneighbors(Rating_popular_item_pivot.iloc[query_index,:].values.reshape(1,-1),n_neighbors=5)\n"
   ]
  },
  {
   "cell_type": "code",
   "execution_count": 31,
   "metadata": {},
   "outputs": [
    {
     "data": {
      "text/plain": [
       "'Akhiyon Se Goli Maare'"
      ]
     },
     "execution_count": 31,
     "metadata": {},
     "output_type": "execute_result"
    }
   ],
   "source": [
    "Rating_popular_item_pivot.index[query_index]"
   ]
  },
  {
   "cell_type": "markdown",
   "metadata": {},
   "source": [
    "FOR THE ITEM i THESES ARE THE TOP 5 ITEMS RECOMMENDED."
   ]
  },
  {
   "cell_type": "code",
   "execution_count": 32,
   "metadata": {},
   "outputs": [
    {
     "name": "stdout",
     "output_type": "stream",
     "text": [
      "Recommendations for Akhiyon Se Goli Maare:\n",
      "\n",
      "1:KEEN Men s Targhee II Mid Waterproof Hiking Boot,with distance of [0.         0.92185353 0.93443037 0.93443037 0.96336437]:\n",
      "\n",
      "\n",
      "2:Kindle Book,with distance of [0.         0.92185353 0.93443037 0.93443037 0.96336437]:\n",
      "\n",
      "\n",
      "3:Injustice 2,with distance of [0.         0.92185353 0.93443037 0.93443037 0.96336437]:\n",
      "\n",
      "\n",
      "4:Eternium,with distance of [0.         0.92185353 0.93443037 0.93443037 0.96336437]:\n",
      "\n",
      "\n"
     ]
    }
   ],
   "source": [
    "for i in range(0,len(distances.flatten())):\n",
    "    if i==0:\n",
    "        print(\"Recommendations for {0}:\\n\".format(Rating_popular_item_pivot.index[query_index]))\n",
    "    else:\n",
    "        print(\"{0}:{1},with distance of {2}:\".format(i,Rating_popular_item_pivot.index[indices.flatten()[i]],distances.flatten()))\n",
    "        print(\"\\n\")"
   ]
  },
  {
   "cell_type": "markdown",
   "metadata": {},
   "source": [
    "#user_based"
   ]
  },
  {
   "cell_type": "code",
   "execution_count": 33,
   "metadata": {},
   "outputs": [],
   "source": [
    "from scipy.sparse import csr_matrix\n",
    "Rating_popular_item=Rating_popular_item.drop_duplicates([\"USER\",\"ITEM\"])\n",
    "Rating_popular_item_pivot=Rating_popular_item.pivot(index=\"USER\",columns=\"title\",values=\"TOTAL_RATING\").fillna(0)\n",
    "Rating_popular_item_matrix=csr_matrix(Rating_popular_item_pivot.values)\n"
   ]
  },
  {
   "cell_type": "code",
   "execution_count": 34,
   "metadata": {},
   "outputs": [
    {
     "data": {
      "text/plain": [
       "NearestNeighbors(algorithm='brute', leaf_size=30, metric='cosine',\n",
       "                 metric_params=None, n_jobs=None, n_neighbors=5, p=2,\n",
       "                 radius=1.0)"
      ]
     },
     "execution_count": 34,
     "metadata": {},
     "output_type": "execute_result"
    }
   ],
   "source": [
    "from sklearn.neighbors import NearestNeighbors\n",
    "\n",
    "model_knn= NearestNeighbors(metric=\"cosine\",algorithm=\"brute\")\n",
    "model_knn.fit(Rating_popular_item_matrix)"
   ]
  },
  {
   "cell_type": "code",
   "execution_count": 35,
   "metadata": {},
   "outputs": [
    {
     "name": "stdout",
     "output_type": "stream",
     "text": [
      "2834\n"
     ]
    }
   ],
   "source": [
    "query_index=np.random.choice(Rating_popular_item_pivot.shape[0])\n",
    "print(query_index)\n",
    "distances,indices=model_knn.kneighbors(Rating_popular_item_pivot.iloc[query_index,:].values.reshape(1,-1),n_neighbors=5)\n"
   ]
  },
  {
   "cell_type": "code",
   "execution_count": 36,
   "metadata": {},
   "outputs": [
    {
     "data": {
      "text/plain": [
       "'A8P6GIIQ6YQV8'"
      ]
     },
     "execution_count": 36,
     "metadata": {},
     "output_type": "execute_result"
    }
   ],
   "source": [
    "Rating_popular_item_pivot.index[query_index]"
   ]
  },
  {
   "cell_type": "code",
   "execution_count": 37,
   "metadata": {},
   "outputs": [
    {
     "name": "stdout",
     "output_type": "stream",
     "text": [
      "Recommendations for A8P6GIIQ6YQV8:\n",
      "\n",
      "1:A2W5B60CW0RUHU,with distance of [0. 0. 0. 0. 0.]:\n",
      "\n",
      "\n",
      "2:A14686WCLGNN2N,with distance of [0. 0. 0. 0. 0.]:\n",
      "\n",
      "\n",
      "3:A3C713428J4MJ7,with distance of [0. 0. 0. 0. 0.]:\n",
      "\n",
      "\n",
      "4:A2CYUEFLYG72CW,with distance of [0. 0. 0. 0. 0.]:\n",
      "\n",
      "\n"
     ]
    }
   ],
   "source": [
    "for i in range(0,len(distances.flatten())):\n",
    "    if i==0:\n",
    "        print(\"Recommendations for {0}:\\n\".format(Rating_popular_item_pivot.index[query_index]))\n",
    "    else:\n",
    "        print(\"{0}:{1},with distance of {2}:\".format(i,Rating_popular_item_pivot.index[indices.flatten()[i]],distances.flatten()))\n",
    "        print(\"\\n\")"
   ]
  },
  {
   "cell_type": "code",
   "execution_count": null,
   "metadata": {},
   "outputs": [],
   "source": []
  }
 ],
 "metadata": {
  "kernelspec": {
   "display_name": "Python 3",
   "language": "python",
   "name": "python3"
  },
  "language_info": {
   "codemirror_mode": {
    "name": "ipython",
    "version": 3
   },
   "file_extension": ".py",
   "mimetype": "text/x-python",
   "name": "python",
   "nbconvert_exporter": "python",
   "pygments_lexer": "ipython3",
   "version": "3.7.3"
  }
 },
 "nbformat": 4,
 "nbformat_minor": 2
}
