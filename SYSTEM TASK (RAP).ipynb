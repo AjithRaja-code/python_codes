{
 "cells": [
  {
   "cell_type": "markdown",
   "metadata": {},
   "source": [
    "# system task(RAP)"
   ]
  },
  {
   "cell_type": "markdown",
   "metadata": {},
   "source": [
    "1. Write a program that prints the numbers from 1 to N. \n",
    "But, for multiples of three,  print “Fizz” instead of the number and for the multiples of five print “Buzz”. \n",
    "For numbers which are multiples of both three and five print “FizzBuzz”.\n"
   ]
  },
  {
   "cell_type": "code",
   "execution_count": 12,
   "metadata": {},
   "outputs": [],
   "source": [
    "def fizzbuzz(a):\n",
    "    for i in range(a):\n",
    "        if i==0:\n",
    "            continue\n",
    "        elif i%3==0 and i%5==0:\n",
    "            print (\"fizzbuzz\")\n",
    "        elif i % 5==0:\n",
    "            print(\"buzz\")\n",
    "        elif i%3==0:\n",
    "            print(\"fizz\")\n",
    "        else:\n",
    "            print (i)"
   ]
  },
  {
   "cell_type": "code",
   "execution_count": 13,
   "metadata": {},
   "outputs": [
    {
     "name": "stdout",
     "output_type": "stream",
     "text": [
      "1\n",
      "2\n",
      "fizz\n",
      "4\n",
      "buzz\n",
      "fizz\n",
      "7\n",
      "8\n",
      "fizz\n",
      "buzz\n",
      "11\n",
      "fizz\n",
      "13\n",
      "14\n",
      "fizzbuzz\n",
      "16\n",
      "17\n",
      "fizz\n",
      "19\n"
     ]
    }
   ],
   "source": [
    "fizzbuzz(20)"
   ]
  },
  {
   "cell_type": "markdown",
   "metadata": {},
   "source": [
    "2.  Given an array print all the numbers that are repeating in it and the number of times they are repeating.\n"
   ]
  },
  {
   "cell_type": "code",
   "execution_count": 64,
   "metadata": {},
   "outputs": [],
   "source": [
    "def countfreq(a):\n",
    "    import collections\n",
    "    count=collections.Counter(a)\n",
    "    for key,value in freq.items():\n",
    "        if value>1:\n",
    "            print (key,\"-->\",value)"
   ]
  },
  {
   "cell_type": "code",
   "execution_count": 65,
   "metadata": {},
   "outputs": [
    {
     "name": "stdout",
     "output_type": "stream",
     "text": [
      "1 --> 4\n",
      "2 --> 4\n",
      "3 --> 2\n",
      "5 --> 2\n"
     ]
    }
   ],
   "source": [
    "list1=[1,1,2,2,2,3,3,3,3,3,4,5,6]\n",
    "countfreq(list1)"
   ]
  },
  {
   "cell_type": "markdown",
   "metadata": {},
   "source": [
    "3.Given an object/dictionary, containing names as keys and amount_paid by each of them as\n",
    "values, write a function that takes such an object as input and calculates the total sum paid by them together.\n"
   ]
  },
  {
   "cell_type": "code",
   "execution_count": 4,
   "metadata": {},
   "outputs": [],
   "source": [
    "def TotalSum(a):\n",
    "    print (\"Total Sum = \"+str(sum (a.values())))"
   ]
  },
  {
   "cell_type": "code",
   "execution_count": 5,
   "metadata": {},
   "outputs": [
    {
     "name": "stdout",
     "output_type": "stream",
     "text": [
      "Total Sum = 275\n"
     ]
    }
   ],
   "source": [
    "a={\"Rick\": 85, \"Amit\": 42, \"George\": 53, \"Tanya\": 60, \"Linda\": 35}\n",
    "TotalSum(a)"
   ]
  },
  {
   "cell_type": "markdown",
   "metadata": {},
   "source": [
    "\n",
    "4. Develop a program to calculate the total and individual player scores in a cricket match. \n",
    "Input would be an array with the index representing the ball number and the value representing the runs scored of that ball.\n"
   ]
  },
  {
   "cell_type": "code",
   "execution_count": 22,
   "metadata": {},
   "outputs": [
    {
     "ename": "SyntaxError",
     "evalue": "invalid syntax (<ipython-input-22-181c73fcf335>, line 11)",
     "output_type": "error",
     "traceback": [
      "\u001b[1;36m  File \u001b[1;32m\"<ipython-input-22-181c73fcf335>\"\u001b[1;36m, line \u001b[1;32m11\u001b[0m\n\u001b[1;33m    print (\"batsman 1 score=\" str(sum(bt1)))\u001b[0m\n\u001b[1;37m                                ^\u001b[0m\n\u001b[1;31mSyntaxError\u001b[0m\u001b[1;31m:\u001b[0m invalid syntax\n"
     ]
    }
   ],
   "source": [
    "def Cri_score_calci(a):\n",
    "    bt1=[]\n",
    "    bt2=[]\n",
    "    print (\"Total Score = \"+str(sum(a)))\n",
    "    pass\n",
    "for i,j in enumerate(a):\n",
    "    if i==0:\n",
    "        if j!=1 or 3:\n",
    "            if j%2==0 and i%2==0 or i%3==0 or i%5==0 or 1%7==0:  \n",
    "                bt1.append(j)\n",
    "                print (\"batsman 1 score=\" str(sum(bt1)))\n",
    "                print (\"batsman 2 score=\" str(sum(a)-sum(bt1)))   \n",
    "            else:\n",
    "                break\n",
    "for i,j in enumerate(a):\n",
    "    if i==0:\n",
    "        if j==1 and 3:\n",
    "            if  j%2==0 and i%2==0 or i%3==0 or i%5==0 or 1%7==0:\n",
    "                bt2.append(j)\n",
    "                print (\"batsman 2 score=\" str(sum(bt2)))\n",
    "                print (\"batsman 1 score=\" str(sum(a)-sum(bt2))) \n",
    "            else:\n",
    "                break\n",
    "                     \n",
    "                \n",
    "    \n",
    "        "
   ]
  },
  {
   "cell_type": "markdown",
   "metadata": {},
   "source": [
    "Tried Logic:\n",
    "    If the score card starting with an odd number then remaining runs scored in the over with even digits until a odd numbers appears are appened in batsman 2 list.if initial score is even then it is viceversa.since every end of over is prime digit. Index number applied if statement to it to satisfy the not prime condition.atlast subtracting the total score with one of the obtained batsman score we get other batsman score."
   ]
  },
  {
   "cell_type": "code",
   "execution_count": null,
   "metadata": {},
   "outputs": [],
   "source": []
  }
 ],
 "metadata": {
  "kernelspec": {
   "display_name": "Python 3",
   "language": "python",
   "name": "python3"
  },
  "language_info": {
   "codemirror_mode": {
    "name": "ipython",
    "version": 3
   },
   "file_extension": ".py",
   "mimetype": "text/x-python",
   "name": "python",
   "nbconvert_exporter": "python",
   "pygments_lexer": "ipython3",
   "version": "3.7.3"
  }
 },
 "nbformat": 4,
 "nbformat_minor": 2
}
